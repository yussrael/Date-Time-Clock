{
  "cells": [
    {
      "cell_type": "markdown",
      "metadata": {
        "id": "ndlPqHif1jl1"
      },
      "source": [
        "create rgb image 500*500 clock that show the current time hours,minutes,second\n",
        "and date of the day."
      ]
    },
    {
      "cell_type": "code",
      "execution_count": null,
      "metadata": {
        "id": "USmlFu9d1jl6"
      },
      "outputs": [],
      "source": [
        "import cv2\n",
        "import math\n",
        "import numpy as np\n",
        "from time import time,sleep\n",
        "from matplotlib import pyplot as plt\n",
        "from datetime import datetime\n",
        "now = datetime.now()\n",
        "sec_disp=int(now.strftime(\"%S\"))\n",
        "sec= int(now.strftime(\"%S\"))*6 \n",
        "min_disp=int(now.strftime(\"%M\"))\n",
        "min=(float(now.strftime(\"%M\"))*6)+((1/60)*sec)\n",
        "hr_disp=int(now.strftime(\"%H\"))\n",
        "hr=(float(now.strftime(\"%H\"))*30)+((1/12)*min)\n",
        "day=int(now.date().day)\n",
        "month=int(now.date().month)\n",
        "year=now.date().year\n",
        "cv2.namedWindow('Clock')\n",
        "\n",
        "while(1):\n",
        "\n",
        "    # Main shape and Circle\n",
        "    img=np.zeros((500,500,3),np.uint8)\n",
        "    cv2.circle(img,(250,300),150,(0,0,255),3)\n",
        "\n",
        "    # Date and Time\n",
        "    cv2.putText(img,'Date: '+str(year)+'-'+str(month)+'-'+str(day),(30,50),cv2.FONT_HERSHEY_SIMPLEX,1,(220,220,0),2,cv2.LINE_4)\n",
        "    cv2.putText(img,'Time: '+str(hr_disp)+':'+str(min_disp)+':'+str(sec_disp),(30,100),cv2.FONT_HERSHEY_SIMPLEX,1,(220,220,0),2,cv2.LINE_4)\n",
        "    \n",
        "\n",
        "    # Minutes small white Circles/Dots\n",
        "    for i in range(0,355,6):\n",
        "        x_m=int((250+(145)*math.cos(math.radians(i))))\n",
        "        y_m=int((300+(145)*math.sin(math.radians(i))))\n",
        "        cv2.circle(img,(x_m,y_m),1,(255,255,255),-1)\n",
        "\n",
        "    # Hours yellow bigger Circles\n",
        "    for i in range(0,331,30):\n",
        "        x=int((250+(150)*math.cos(math.radians(i))))\n",
        "        y=int((300+(150)*math.sin(math.radians(i))))\n",
        "        cv2.circle(img,(x,y),4,(0,255,255),2)\n",
        "\n",
        "    # Hands of the colck\n",
        "    xsec=int(250+120*math.cos(math.radians(sec-90))) #-90 to get all clock hands started from 12 clock not 3 clock when sec,min,hr =0\n",
        "    ysec=int(300+120*math.sin(math.radians(sec-90)))\n",
        "    cv2.line(img,(250,300),(xsec,ysec),(0,255,255),1) #secs\n",
        "\n",
        "    xmin=int(250+100*math.cos(math.radians(min-90)))\n",
        "    ymin=int(300+100*math.sin(math.radians(min-90)))\n",
        "    cv2.line(img,(250,300),(xmin,ymin),(0,255,0),2) #mins\n",
        "\n",
        "    xhr=int(250+90*math.cos(math.radians(hr-90)))\n",
        "    yhr=int(300+90*math.sin(math.radians(hr-90)))\n",
        "    cv2.line(img,(250,300),(xhr,yhr),(88,108,88),2) #hours\n",
        "\n",
        "    # Time calculations\n",
        "    sleep(1)\n",
        "    sec+=6\n",
        "    min+=1/10\n",
        "    sec_disp=sec_disp+1\n",
        "    if(sec_disp >59): #calculation of the digital hour\n",
        "        sec_disp=0\n",
        "        min_disp=min_disp+1\n",
        "    if(min_disp>59):\n",
        "        min_disp=0\n",
        "        hr_disp=hr_disp+1\n",
        "    if(hr_disp>23):\n",
        "        hr_disp=0\n",
        "        day=day+1\n",
        "    if(month==1 or month==3 or month==5 or month==7 or month==8 or month==10 or month==12): #calculation of the date\n",
        "        if(day>31):\n",
        "            day=1\n",
        "            month=month+1\n",
        "    if(month==4 or month==6 or month==9 or month==11):\n",
        "        if(day>30):\n",
        "            day=1\n",
        "            month=month+1\n",
        "    if(month==2):\n",
        "        if(day>28):#assuming it's not a leap year\n",
        "            day=1\n",
        "            month=month+1 \n",
        "    if(sec>359): #calculation of the analog hour 'the drawing'\n",
        "        sec=0\n",
        "        hr=hr+(1/2)#makes 'hours' hand moves slowely 0.5 degree per minute and by the end of the 'mins' cycle it completes one houre with 30 degrees (0.5*360/6)\n",
        "    \n",
        "    cv2.imshow('Clock',img)\n",
        "    if cv2.waitKey(1)== ord('q'): break\n",
        "cv2.destroyAllWindows()"
      ]
    }
  ],
  "metadata": {
    "kernelspec": {
      "display_name": "Python 3.10.4 64-bit",
      "language": "python",
      "name": "python3"
    },
    "language_info": {
      "codemirror_mode": {
        "name": "ipython",
        "version": 3
      },
      "file_extension": ".py",
      "mimetype": "text/x-python",
      "name": "python",
      "nbconvert_exporter": "python",
      "pygments_lexer": "ipython3",
      "version": "3.10.4"
    },
    "orig_nbformat": 4,
    "vscode": {
      "interpreter": {
        "hash": "8c3d4d9970fc5c09c50d9318a9c7fbf4d0159e4b28833276f5678ee22bded273"
      }
    },
    "colab": {
      "provenance": []
    }
  },
  "nbformat": 4,
  "nbformat_minor": 0
}